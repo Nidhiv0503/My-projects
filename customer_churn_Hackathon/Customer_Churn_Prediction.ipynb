{
 "cells": [
  {
   "cell_type": "markdown",
   "metadata": {},
   "source": [
    "                                         Customer_Churn_Predictions\n",
    "\n",
    "Problem Statement:\n",
    "\n",
    "Decreasing the Customer Churn is a key goal for any business. Predicting Customer Churn (also known as Customer Attrition)\n",
    "represents an additional potential revenue source for any business.Higher Customer Churn leads to loss in revenue and the \n",
    "additional marketing costs involved with replacing those customers with new ones. \n",
    "\n",
    "Objective: \n",
    "Our objective is to build a machine learning model to predict whether the customer will churn or not in the next\n",
    "six months.\n",
    "\n",
    "Summary :\n",
    "Many factors influence the reasons for a customer to Churn. It may be the fact that there’s a new competitor in the market \n",
    "offering better prices or maybe the service they are getting has not been up to the mark, so on and so forth.\n",
    "Normally for customer churn prediction, you will have to work a little bit to create a target column, it’s generally not \n",
    "available in the form you would want it. For example, you want to predict if the customer will churn within the next \n",
    "quarter, and so you will iterate through all the active customers as of your event cut-off date and check if they left \n",
    "the company in the next quarter or not (1 for yes, 0 for no)."
   ]
  },
  {
   "cell_type": "markdown",
   "metadata": {
    "id": "yhpctx8MRAE1"
   },
   "source": [
    "**Importing Libraries**"
   ]
  },
  {
   "cell_type": "code",
   "execution_count": 1,
   "metadata": {
    "id": "uDtuET7oRGRJ"
   },
   "outputs": [],
   "source": [
    "import pandas as pd\n",
    "import numpy as np\n",
    "import seaborn as sns\n",
    "import matplotlib.pyplot as plt\n",
    "import warnings\n",
    "warnings.filterwarnings('ignore')"
   ]
  },
  {
   "cell_type": "markdown",
   "metadata": {
    "id": "JseTKgJvRwew"
   },
   "source": [
    "**Loading the dataset**"
   ]
  },
  {
   "cell_type": "code",
   "execution_count": 2,
   "metadata": {
    "id": "8F3NleOoRTzg"
   },
   "outputs": [],
   "source": [
    "train=pd.read_csv(\"train_PDjVQMB.csv\")\n",
    "test=pd.read_csv(\"test_lTY72QC.csv\")\n"
   ]
  },
  {
   "cell_type": "code",
   "execution_count": 3,
   "metadata": {
    "id": "0rPTNg7VpPPk"
   },
   "outputs": [],
   "source": [
    "# merging train and test data into a single dataframe for further analysis\n",
    "df=pd.concat([train,test])"
   ]
  },
  {
   "cell_type": "code",
   "execution_count": 52,
   "metadata": {
    "id": "2BZf_2Insu5-"
   },
   "outputs": [
    {
     "data": {
      "text/plain": [
       "(2851, 10)"
      ]
     },
     "execution_count": 52,
     "metadata": {},
     "output_type": "execute_result"
    }
   ],
   "source": [
    "test.shape"
   ]
  },
  {
   "cell_type": "code",
   "execution_count": 4,
   "metadata": {
    "colab": {
     "base_uri": "https://localhost:8080/",
     "height": 206
    },
    "id": "vqTWB2UWpPzN",
    "outputId": "578ce8a6-dc1e-4290-d6b0-e5a661dd931a"
   },
   "outputs": [
    {
     "data": {
      "text/html": [
       "<div>\n",
       "<style scoped>\n",
       "    .dataframe tbody tr th:only-of-type {\n",
       "        vertical-align: middle;\n",
       "    }\n",
       "\n",
       "    .dataframe tbody tr th {\n",
       "        vertical-align: top;\n",
       "    }\n",
       "\n",
       "    .dataframe thead th {\n",
       "        text-align: right;\n",
       "    }\n",
       "</style>\n",
       "<table border=\"1\" class=\"dataframe\">\n",
       "  <thead>\n",
       "    <tr style=\"text-align: right;\">\n",
       "      <th></th>\n",
       "      <th>ID</th>\n",
       "      <th>Age</th>\n",
       "      <th>Gender</th>\n",
       "      <th>Income</th>\n",
       "      <th>Balance</th>\n",
       "      <th>Vintage</th>\n",
       "      <th>Transaction_Status</th>\n",
       "      <th>Product_Holdings</th>\n",
       "      <th>Credit_Card</th>\n",
       "      <th>Credit_Category</th>\n",
       "      <th>Is_Churn</th>\n",
       "    </tr>\n",
       "  </thead>\n",
       "  <tbody>\n",
       "    <tr>\n",
       "      <th>0</th>\n",
       "      <td>84e2fcc9</td>\n",
       "      <td>36</td>\n",
       "      <td>Female</td>\n",
       "      <td>5L - 10L</td>\n",
       "      <td>563266.44</td>\n",
       "      <td>4</td>\n",
       "      <td>0</td>\n",
       "      <td>1</td>\n",
       "      <td>0</td>\n",
       "      <td>Average</td>\n",
       "      <td>1.0</td>\n",
       "    </tr>\n",
       "    <tr>\n",
       "      <th>1</th>\n",
       "      <td>57fea15e</td>\n",
       "      <td>53</td>\n",
       "      <td>Female</td>\n",
       "      <td>Less than 5L</td>\n",
       "      <td>875572.11</td>\n",
       "      <td>2</td>\n",
       "      <td>1</td>\n",
       "      <td>1</td>\n",
       "      <td>1</td>\n",
       "      <td>Poor</td>\n",
       "      <td>0.0</td>\n",
       "    </tr>\n",
       "    <tr>\n",
       "      <th>2</th>\n",
       "      <td>8df34ef3</td>\n",
       "      <td>35</td>\n",
       "      <td>Female</td>\n",
       "      <td>More than 15L</td>\n",
       "      <td>701607.06</td>\n",
       "      <td>2</td>\n",
       "      <td>1</td>\n",
       "      <td>2</td>\n",
       "      <td>0</td>\n",
       "      <td>Poor</td>\n",
       "      <td>0.0</td>\n",
       "    </tr>\n",
       "    <tr>\n",
       "      <th>3</th>\n",
       "      <td>c5c0788b</td>\n",
       "      <td>43</td>\n",
       "      <td>Female</td>\n",
       "      <td>More than 15L</td>\n",
       "      <td>1393922.16</td>\n",
       "      <td>0</td>\n",
       "      <td>1</td>\n",
       "      <td>2</td>\n",
       "      <td>1</td>\n",
       "      <td>Poor</td>\n",
       "      <td>1.0</td>\n",
       "    </tr>\n",
       "    <tr>\n",
       "      <th>4</th>\n",
       "      <td>951d69c4</td>\n",
       "      <td>39</td>\n",
       "      <td>Female</td>\n",
       "      <td>More than 15L</td>\n",
       "      <td>893146.23</td>\n",
       "      <td>1</td>\n",
       "      <td>1</td>\n",
       "      <td>1</td>\n",
       "      <td>1</td>\n",
       "      <td>Good</td>\n",
       "      <td>1.0</td>\n",
       "    </tr>\n",
       "  </tbody>\n",
       "</table>\n",
       "</div>"
      ],
      "text/plain": [
       "         ID  Age  Gender         Income     Balance  Vintage  \\\n",
       "0  84e2fcc9   36  Female       5L - 10L   563266.44        4   \n",
       "1  57fea15e   53  Female   Less than 5L   875572.11        2   \n",
       "2  8df34ef3   35  Female  More than 15L   701607.06        2   \n",
       "3  c5c0788b   43  Female  More than 15L  1393922.16        0   \n",
       "4  951d69c4   39  Female  More than 15L   893146.23        1   \n",
       "\n",
       "   Transaction_Status Product_Holdings  Credit_Card Credit_Category  Is_Churn  \n",
       "0                   0                1            0         Average       1.0  \n",
       "1                   1                1            1            Poor       0.0  \n",
       "2                   1                2            0            Poor       0.0  \n",
       "3                   1                2            1            Poor       1.0  \n",
       "4                   1                1            1            Good       1.0  "
      ]
     },
     "execution_count": 4,
     "metadata": {},
     "output_type": "execute_result"
    }
   ],
   "source": [
    "df.head()"
   ]
  },
  {
   "cell_type": "code",
   "execution_count": null,
   "metadata": {
    "id": "SyXcVwOistl9"
   },
   "outputs": [],
   "source": []
  },
  {
   "cell_type": "code",
   "execution_count": null,
   "metadata": {
    "id": "eDBP8n2GpQF3"
   },
   "outputs": [],
   "source": []
  },
  {
   "cell_type": "code",
   "execution_count": null,
   "metadata": {
    "id": "3XpBENBlpRso"
   },
   "outputs": [],
   "source": []
  },
  {
   "cell_type": "markdown",
   "metadata": {
    "id": "Poa_THpsSDiw"
   },
   "source": [
    "**Analyzing the Patterns in the dataset**"
   ]
  },
  {
   "cell_type": "code",
   "execution_count": 5,
   "metadata": {
    "colab": {
     "base_uri": "https://localhost:8080/"
    },
    "id": "ZutCyDFcR8mW",
    "outputId": "d7858c47-5844-4df2-c0d0-ffdcb73b7c86"
   },
   "outputs": [
    {
     "name": "stdout",
     "output_type": "stream",
     "text": [
      "(9501, 11) rows and columns\n"
     ]
    }
   ],
   "source": [
    "# checking shape\n",
    "print(df.shape,'rows and columns')"
   ]
  },
  {
   "cell_type": "code",
   "execution_count": 6,
   "metadata": {
    "colab": {
     "base_uri": "https://localhost:8080/"
    },
    "id": "lwv0SnS-SLxB",
    "outputId": "c44a05e8-7054-4b5e-e104-b5ba31222615"
   },
   "outputs": [
    {
     "name": "stdout",
     "output_type": "stream",
     "text": [
      "<class 'pandas.core.frame.DataFrame'>\n",
      "Int64Index: 9501 entries, 0 to 2850\n",
      "Data columns (total 11 columns):\n",
      " #   Column              Non-Null Count  Dtype  \n",
      "---  ------              --------------  -----  \n",
      " 0   ID                  9501 non-null   object \n",
      " 1   Age                 9501 non-null   int64  \n",
      " 2   Gender              9501 non-null   object \n",
      " 3   Income              9501 non-null   object \n",
      " 4   Balance             9501 non-null   float64\n",
      " 5   Vintage             9501 non-null   int64  \n",
      " 6   Transaction_Status  9501 non-null   int64  \n",
      " 7   Product_Holdings    9501 non-null   object \n",
      " 8   Credit_Card         9501 non-null   int64  \n",
      " 9   Credit_Category     9501 non-null   object \n",
      " 10  Is_Churn            6650 non-null   float64\n",
      "dtypes: float64(2), int64(4), object(5)\n",
      "memory usage: 890.7+ KB\n"
     ]
    }
   ],
   "source": [
    "# Checking Data type\n",
    "df.info()"
   ]
  },
  {
   "cell_type": "markdown",
   "metadata": {
    "id": "Ea1Xp96sSm55"
   },
   "source": [
    "2 float data type, 4 integer data type and 5 object data type columns are present in the dataset."
   ]
  },
  {
   "cell_type": "code",
   "execution_count": 7,
   "metadata": {
    "colab": {
     "base_uri": "https://localhost:8080/"
    },
    "id": "xvv-W9I6Sqcw",
    "outputId": "fb43a686-65fd-4a57-a45e-b20504473c26"
   },
   "outputs": [
    {
     "data": {
      "text/plain": [
       "ID                       0\n",
       "Age                      0\n",
       "Gender                   0\n",
       "Income                   0\n",
       "Balance                  0\n",
       "Vintage                  0\n",
       "Transaction_Status       0\n",
       "Product_Holdings         0\n",
       "Credit_Card              0\n",
       "Credit_Category          0\n",
       "Is_Churn              2851\n",
       "dtype: int64"
      ]
     },
     "execution_count": 7,
     "metadata": {},
     "output_type": "execute_result"
    }
   ],
   "source": [
    "# Checking null values\n",
    "df.isnull().sum()"
   ]
  },
  {
   "cell_type": "markdown",
   "metadata": {
    "id": "T-kYZiD0Szrv"
   },
   "source": [
    "Null values are present in the dataset because we added both the dataframes."
   ]
  },
  {
   "cell_type": "code",
   "execution_count": 8,
   "metadata": {
    "id": "c4sm_-t8qh54"
   },
   "outputs": [],
   "source": [
    "# dropping null values\n",
    "df.dropna(axis=0,inplace=True)"
   ]
  },
  {
   "cell_type": "code",
   "execution_count": 9,
   "metadata": {
    "colab": {
     "base_uri": "https://localhost:8080/"
    },
    "id": "GEA8tsbPqiFi",
    "outputId": "4479c365-9faa-4541-badd-4a3e7afc4aaa"
   },
   "outputs": [
    {
     "data": {
      "text/plain": [
       "ID                    0\n",
       "Age                   0\n",
       "Gender                0\n",
       "Income                0\n",
       "Balance               0\n",
       "Vintage               0\n",
       "Transaction_Status    0\n",
       "Product_Holdings      0\n",
       "Credit_Card           0\n",
       "Credit_Category       0\n",
       "Is_Churn              0\n",
       "dtype: int64"
      ]
     },
     "execution_count": 9,
     "metadata": {},
     "output_type": "execute_result"
    }
   ],
   "source": [
    "# checking null values again\n",
    "df.isnull().sum()"
   ]
  },
  {
   "cell_type": "code",
   "execution_count": 10,
   "metadata": {
    "id": "BqD_Ra4kbU4y"
   },
   "outputs": [],
   "source": [
    "# Remoing ID column\n",
    "del df['ID']"
   ]
  },
  {
   "cell_type": "markdown",
   "metadata": {
    "id": "R5uIGj8pTFnz"
   },
   "source": [
    "**EDA Nominal Data**"
   ]
  },
  {
   "cell_type": "code",
   "execution_count": 11,
   "metadata": {
    "colab": {
     "base_uri": "https://localhost:8080/",
     "height": 331
    },
    "id": "3NnHqytDTOCa",
    "outputId": "cb58a4f5-63ce-4b96-d79d-ff334426d9de"
   },
   "outputs": [
    {
     "name": "stdout",
     "output_type": "stream",
     "text": [
      "Male      3612\n",
      "Female    3038\n",
      "Name: Gender, dtype: int64\n"
     ]
    },
    {
     "data": {
      "image/png": "[encoded data removed]",
      "text/plain": [
       "<Figure size 432x288 with 1 Axes>"
      ]
     },
     "metadata": {
      "needs_background": "light"
     },
     "output_type": "display_data"
    }
   ],
   "source": [
    "# Gender\n",
    "ax=sns.countplot(x='Gender',data=df)\n",
    "print(df['Gender'].value_counts())"
   ]
  },
  {
   "cell_type": "markdown",
   "metadata": {
    "id": "rYHufFnSTWKT"
   },
   "source": [
    "From the above observations the total number of males are 5157 and total number of females are is 4344, and there is not much difference."
   ]
  },
  {
   "cell_type": "code",
   "execution_count": 12,
   "metadata": {
    "colab": {
     "base_uri": "https://localhost:8080/",
     "height": 366
    },
    "id": "DVboMLRiTVdM",
    "outputId": "bd7f4a9a-317e-4f7c-d139-39df6f8f40ec"
   },
   "outputs": [
    {
     "name": "stdout",
     "output_type": "stream",
     "text": [
      "10L - 15L        1885\n",
      "5L - 10L         1847\n",
      "Less than 5L     1573\n",
      "More than 15L    1345\n",
      "Name: Income, dtype: int64\n"
     ]
    },
    {
     "data": {
      "image/png": "[encoded data removed]",
      "text/plain": [
       "<Figure size 432x288 with 1 Axes>"
      ]
     },
     "metadata": {
      "needs_background": "light"
     },
     "output_type": "display_data"
    }
   ],
   "source": [
    "# Income\n",
    "ax=sns.countplot(x='Income',data=df)\n",
    "print(df['Income'].value_counts())"
   ]
  },
  {
   "cell_type": "markdown",
   "metadata": {
    "id": "dSOmkpQfVPNP"
   },
   "source": [
    "In Yearly Income there are 4 unique values, that is customer's Income in the range of 10L - 15L, 5L - 10L, Less than 5L and More than 15L and there is not much difference between them."
   ]
  },
  {
   "cell_type": "code",
   "execution_count": 13,
   "metadata": {
    "colab": {
     "base_uri": "https://localhost:8080/",
     "height": 401
    },
    "id": "-vNQpzybVFD0",
    "outputId": "0410c5ee-a5aa-44a8-e1c4-30d608e892b3"
   },
   "outputs": [
    {
     "name": "stdout",
     "output_type": "stream",
     "text": [
      "3    1405\n",
      "1    1354\n",
      "2    1328\n",
      "4    1296\n",
      "0     956\n",
      "5     311\n",
      "Name: Vintage, dtype: int64\n"
     ]
    },
    {
     "data": {
      "image/png": "[encoded data removed]",
      "text/plain": [
       "<Figure size 432x288 with 1 Axes>"
      ]
     },
     "metadata": {
      "needs_background": "light"
     },
     "output_type": "display_data"
    }
   ],
   "source": [
    "# Vintage\n",
    "ax=sns.countplot(x='Vintage',data=df)\n",
    "print(df['Vintage'].value_counts())"
   ]
  },
  {
   "cell_type": "markdown",
   "metadata": {
    "id": "94A1goa5V4wU"
   },
   "source": [
    "In Vintage(No. of years the customer is associated with bank) column, vintage number 5 is very low that is 311 and vintage number 3 is more that is 456."
   ]
  },
  {
   "cell_type": "code",
   "execution_count": 14,
   "metadata": {
    "colab": {
     "base_uri": "https://localhost:8080/",
     "height": 332
    },
    "id": "b2mi-5JsV2Oo",
    "outputId": "80fbc867-9ec2-455d-d636-d3b8bc0dfc7b"
   },
   "outputs": [
    {
     "name": "stdout",
     "output_type": "stream",
     "text": [
      "1    3430\n",
      "0    3220\n",
      "Name: Transaction_Status, dtype: int64\n"
     ]
    },
    {
     "data": {
      "image/png": "[encoded data removed]",
      "text/plain": [
       "<Figure size 432x288 with 1 Axes>"
      ]
     },
     "metadata": {
      "needs_background": "light"
     },
     "output_type": "display_data"
    }
   ],
   "source": [
    "# Transaction_Status\n",
    "ax=sns.countplot(x='Transaction_Status',data=df)\n",
    "print(df['Transaction_Status'].value_counts())"
   ]
  },
  {
   "cell_type": "markdown",
   "metadata": {
    "id": "hJo0Vi6QWeQw"
   },
   "source": [
    "Transaction_Status(Whether the customer has done any transaction in the past 3 months or not) is of two type 0 and 1 that is basically yes and no and there is not much differnce between them."
   ]
  },
  {
   "cell_type": "code",
   "execution_count": 15,
   "metadata": {
    "colab": {
     "base_uri": "https://localhost:8080/",
     "height": 350
    },
    "id": "7iNMTOZ1WevT",
    "outputId": "79260e41-bf1a-455b-d301-8e3b2e43f0f3"
   },
   "outputs": [
    {
     "name": "stdout",
     "output_type": "stream",
     "text": [
      "1     3200\n",
      "2     3182\n",
      "3+     268\n",
      "Name: Product_Holdings, dtype: int64\n"
     ]
    },
    {
     "data": {
      "image/png": "[encoded data removed]",
      "text/plain": [
       "<Figure size 432x288 with 1 Axes>"
      ]
     },
     "metadata": {
      "needs_background": "light"
     },
     "output_type": "display_data"
    }
   ],
   "source": [
    "# Product_Holdings\n",
    "ax=sns.countplot(x='Product_Holdings',data=df)\n",
    "print(df['Product_Holdings'].value_counts())"
   ]
  },
  {
   "cell_type": "markdown",
   "metadata": {
    "id": "mYB-ujgLWvpM"
   },
   "source": [
    "In Product_Holdings(No. of product holdings with the bank) column 3+ is very less than others.\n",
    "  "
   ]
  },
  {
   "cell_type": "code",
   "execution_count": 16,
   "metadata": {
    "colab": {
     "base_uri": "https://localhost:8080/",
     "height": 332
    },
    "id": "SXy2tDXiWq1_",
    "outputId": "2344728c-8cd4-4bb0-d3d6-2a21cbf04c7d"
   },
   "outputs": [
    {
     "name": "stdout",
     "output_type": "stream",
     "text": [
      "1    4418\n",
      "0    2232\n",
      "Name: Credit_Card, dtype: int64\n"
     ]
    },
    {
     "data": {
      "image/png": "[encoded data removed]",
      "text/plain": [
       "<Figure size 432x288 with 1 Axes>"
      ]
     },
     "metadata": {
      "needs_background": "light"
     },
     "output_type": "display_data"
    }
   ],
   "source": [
    "# Credit_Card\n",
    "ax=sns.countplot(x='Credit_Card',data=df)\n",
    "print(df['Credit_Card'].value_counts())"
   ]
  },
  {
   "cell_type": "markdown",
   "metadata": {
    "id": "U7q9g7lCXYZW"
   },
   "source": [
    "Customers having Credit_Card is more."
   ]
  },
  {
   "cell_type": "code",
   "execution_count": 17,
   "metadata": {
    "colab": {
     "base_uri": "https://localhost:8080/",
     "height": 350
    },
    "id": "Z-chb7O8XS_c",
    "outputId": "f148cb85-88a8-4706-a205-942b50dabf1f"
   },
   "outputs": [
    {
     "name": "stdout",
     "output_type": "stream",
     "text": [
      "Poor       3076\n",
      "Average    2043\n",
      "Good       1531\n",
      "Name: Credit_Category, dtype: int64\n"
     ]
    },
    {
     "data": {
      "image/png": "[encoded data removed]",
      "text/plain": [
       "<Figure size 432x288 with 1 Axes>"
      ]
     },
     "metadata": {
      "needs_background": "light"
     },
     "output_type": "display_data"
    }
   ],
   "source": [
    "# Credit_Category\n",
    "ax=sns.countplot(x='Credit_Category',data=df)\n",
    "print(df['Credit_Category'].value_counts())"
   ]
  },
  {
   "cell_type": "markdown",
   "metadata": {
    "id": "K_xDkzsUX_Jt"
   },
   "source": [
    "Customers with Poor Credit_Category is more."
   ]
  },
  {
   "cell_type": "code",
   "execution_count": 18,
   "metadata": {
    "colab": {
     "base_uri": "https://localhost:8080/",
     "height": 332
    },
    "id": "8xZulX2BX8ag",
    "outputId": "f8219048-99cd-4c5c-fc64-0bc191c739b9"
   },
   "outputs": [
    {
     "name": "stdout",
     "output_type": "stream",
     "text": [
      "0.0    5113\n",
      "1.0    1537\n",
      "Name: Is_Churn, dtype: int64\n"
     ]
    },
    {
     "data": {
      "image/png": "[encoded data removed]",
      "text/plain": [
       "<Figure size 432x288 with 1 Axes>"
      ]
     },
     "metadata": {
      "needs_background": "light"
     },
     "output_type": "display_data"
    }
   ],
   "source": [
    "# Is_Churn\n",
    "ax=sns.countplot(x='Is_Churn',data=df)\n",
    "print(df['Is_Churn'].value_counts())"
   ]
  },
  {
   "cell_type": "markdown",
   "metadata": {
    "id": "KMjiyXUTZICy"
   },
   "source": [
    "In Is_Churn column(Whether the customer will churn in next 6 months or not), Very large differnce between the two unique category."
   ]
  },
  {
   "cell_type": "markdown",
   "metadata": {
    "id": "tEk0QtwVZcT4"
   },
   "source": [
    "**EDA Distribution Plot**"
   ]
  },
  {
   "cell_type": "code",
   "execution_count": 19,
   "metadata": {
    "colab": {
     "base_uri": "https://localhost:8080/"
    },
    "id": "5i10HNDpYLCO",
    "outputId": "9a18bf93-2331-40ce-a9c7-7732f6c5783f"
   },
   "outputs": [
    {
     "data": {
      "text/plain": [
       "Index(['Age', 'Gender', 'Income', 'Balance', 'Vintage', 'Transaction_Status',\n",
       "       'Product_Holdings', 'Credit_Card', 'Credit_Category', 'Is_Churn'],\n",
       "      dtype='object')"
      ]
     },
     "execution_count": 19,
     "metadata": {},
     "output_type": "execute_result"
    }
   ],
   "source": [
    "df.columns"
   ]
  },
  {
   "cell_type": "code",
   "execution_count": 20,
   "metadata": {
    "colab": {
     "base_uri": "https://localhost:8080/",
     "height": 296
    },
    "id": "Vyn7y0XgZic1",
    "outputId": "5cff1d95-d006-4c96-dfe7-04876262d7a3"
   },
   "outputs": [
    {
     "data": {
      "text/plain": [
       "<AxesSubplot:xlabel='Age', ylabel='Density'>"
      ]
     },
     "execution_count": 20,
     "metadata": {},
     "output_type": "execute_result"
    },
    {
     "data": {
      "image/png": "[encoded data removed]",
      "text/plain": [
       "<Figure size 432x288 with 1 Axes>"
      ]
     },
     "metadata": {
      "needs_background": "light"
     },
     "output_type": "display_data"
    }
   ],
   "source": [
    "# Age\n",
    "sns.distplot(df['Age'],kde=True)"
   ]
  },
  {
   "cell_type": "markdown",
   "metadata": {
    "id": "XALcSWylZyoB"
   },
   "source": [
    "In Age column ages are in range from 20 to approx 75."
   ]
  },
  {
   "cell_type": "code",
   "execution_count": 21,
   "metadata": {
    "colab": {
     "base_uri": "https://localhost:8080/",
     "height": 307
    },
    "id": "4Q-lXw-qZoIS",
    "outputId": "1604b2df-2dce-4f6e-acb4-ca6c57a01789"
   },
   "outputs": [
    {
     "data": {
      "text/plain": [
       "<AxesSubplot:xlabel='Balance', ylabel='Density'>"
      ]
     },
     "execution_count": 21,
     "metadata": {},
     "output_type": "execute_result"
    },
    {
     "data": {
      "image/png": "[encoded data removed]",
      "text/plain": [
       "<Figure size 432x288 with 1 Axes>"
      ]
     },
     "metadata": {
      "needs_background": "light"
     },
     "output_type": "display_data"
    }
   ],
   "source": [
    "# Balance\n",
    "sns.distplot(df['Balance'],kde=True)"
   ]
  },
  {
   "cell_type": "markdown",
   "metadata": {
    "id": "yrIZrCgZau7c"
   },
   "source": [
    "\t\n",
    "In Average column(Average quarterly balance of the customer), distribution plot is showing approximately normal distribution."
   ]
  },
  {
   "cell_type": "markdown",
   "metadata": {
    "id": "GWVIuBXGbxUP"
   },
   "source": [
    "**Encoding object column**"
   ]
  },
  {
   "cell_type": "code",
   "execution_count": 22,
   "metadata": {
    "id": "luw-wrZnaHHi"
   },
   "outputs": [],
   "source": [
    "from sklearn.preprocessing import OrdinalEncoder\n",
    "enc =OrdinalEncoder()\n",
    "\n",
    "for i in df.columns:\n",
    "    if df[i].dtypes=='object':\n",
    "        df[i]=enc.fit_transform(df[i].values.reshape(-1,1))"
   ]
  },
  {
   "cell_type": "markdown",
   "metadata": {
    "id": "OAZefMnycMe6"
   },
   "source": [
    "**Statistical Summary**"
   ]
  },
  {
   "cell_type": "code",
   "execution_count": 23,
   "metadata": {
    "colab": {
     "base_uri": "https://localhost:8080/",
     "height": 300
    },
    "id": "CDW6v_lxb93F",
    "outputId": "a2d19621-f1b0-49e6-b1bf-667d3c0d31b0"
   },
   "outputs": [
    {
     "data": {
      "text/html": [
       "<div>\n",
       "<style scoped>\n",
       "    .dataframe tbody tr th:only-of-type {\n",
       "        vertical-align: middle;\n",
       "    }\n",
       "\n",
       "    .dataframe tbody tr th {\n",
       "        vertical-align: top;\n",
       "    }\n",
       "\n",
       "    .dataframe thead th {\n",
       "        text-align: right;\n",
       "    }\n",
       "</style>\n",
       "<table border=\"1\" class=\"dataframe\">\n",
       "  <thead>\n",
       "    <tr style=\"text-align: right;\">\n",
       "      <th></th>\n",
       "      <th>Age</th>\n",
       "      <th>Gender</th>\n",
       "      <th>Income</th>\n",
       "      <th>Balance</th>\n",
       "      <th>Vintage</th>\n",
       "      <th>Transaction_Status</th>\n",
       "      <th>Product_Holdings</th>\n",
       "      <th>Credit_Card</th>\n",
       "      <th>Credit_Category</th>\n",
       "      <th>Is_Churn</th>\n",
       "    </tr>\n",
       "  </thead>\n",
       "  <tbody>\n",
       "    <tr>\n",
       "      <th>count</th>\n",
       "      <td>6650.000000</td>\n",
       "      <td>6650.000000</td>\n",
       "      <td>6650.000000</td>\n",
       "      <td>6.650000e+03</td>\n",
       "      <td>6650.000000</td>\n",
       "      <td>6650.000000</td>\n",
       "      <td>6650.000000</td>\n",
       "      <td>6650.000000</td>\n",
       "      <td>6650.000000</td>\n",
       "      <td>6650.000000</td>\n",
       "    </tr>\n",
       "    <tr>\n",
       "      <th>mean</th>\n",
       "      <td>41.130226</td>\n",
       "      <td>0.543158</td>\n",
       "      <td>1.357594</td>\n",
       "      <td>8.045954e+05</td>\n",
       "      <td>2.250226</td>\n",
       "      <td>0.515789</td>\n",
       "      <td>0.559098</td>\n",
       "      <td>0.664361</td>\n",
       "      <td>1.155338</td>\n",
       "      <td>0.231128</td>\n",
       "    </tr>\n",
       "    <tr>\n",
       "      <th>std</th>\n",
       "      <td>9.685747</td>\n",
       "      <td>0.498171</td>\n",
       "      <td>1.096052</td>\n",
       "      <td>5.157549e+05</td>\n",
       "      <td>1.458795</td>\n",
       "      <td>0.499788</td>\n",
       "      <td>0.571977</td>\n",
       "      <td>0.472249</td>\n",
       "      <td>0.863572</td>\n",
       "      <td>0.421586</td>\n",
       "    </tr>\n",
       "    <tr>\n",
       "      <th>min</th>\n",
       "      <td>21.000000</td>\n",
       "      <td>0.000000</td>\n",
       "      <td>0.000000</td>\n",
       "      <td>6.300000e+01</td>\n",
       "      <td>0.000000</td>\n",
       "      <td>0.000000</td>\n",
       "      <td>0.000000</td>\n",
       "      <td>0.000000</td>\n",
       "      <td>0.000000</td>\n",
       "      <td>0.000000</td>\n",
       "    </tr>\n",
       "    <tr>\n",
       "      <th>25%</th>\n",
       "      <td>34.000000</td>\n",
       "      <td>0.000000</td>\n",
       "      <td>0.000000</td>\n",
       "      <td>3.922642e+05</td>\n",
       "      <td>1.000000</td>\n",
       "      <td>0.000000</td>\n",
       "      <td>0.000000</td>\n",
       "      <td>0.000000</td>\n",
       "      <td>0.000000</td>\n",
       "      <td>0.000000</td>\n",
       "    </tr>\n",
       "    <tr>\n",
       "      <th>50%</th>\n",
       "      <td>40.000000</td>\n",
       "      <td>1.000000</td>\n",
       "      <td>1.000000</td>\n",
       "      <td>7.649386e+05</td>\n",
       "      <td>2.000000</td>\n",
       "      <td>1.000000</td>\n",
       "      <td>1.000000</td>\n",
       "      <td>1.000000</td>\n",
       "      <td>1.000000</td>\n",
       "      <td>0.000000</td>\n",
       "    </tr>\n",
       "    <tr>\n",
       "      <th>75%</th>\n",
       "      <td>47.000000</td>\n",
       "      <td>1.000000</td>\n",
       "      <td>2.000000</td>\n",
       "      <td>1.147124e+06</td>\n",
       "      <td>3.000000</td>\n",
       "      <td>1.000000</td>\n",
       "      <td>1.000000</td>\n",
       "      <td>1.000000</td>\n",
       "      <td>2.000000</td>\n",
       "      <td>0.000000</td>\n",
       "    </tr>\n",
       "    <tr>\n",
       "      <th>max</th>\n",
       "      <td>72.000000</td>\n",
       "      <td>1.000000</td>\n",
       "      <td>3.000000</td>\n",
       "      <td>2.436616e+06</td>\n",
       "      <td>5.000000</td>\n",
       "      <td>1.000000</td>\n",
       "      <td>2.000000</td>\n",
       "      <td>1.000000</td>\n",
       "      <td>2.000000</td>\n",
       "      <td>1.000000</td>\n",
       "    </tr>\n",
       "  </tbody>\n",
       "</table>\n",
       "</div>"
      ],
      "text/plain": [
       "               Age       Gender       Income       Balance      Vintage  \\\n",
       "count  6650.000000  6650.000000  6650.000000  6.650000e+03  6650.000000   \n",
       "mean     41.130226     0.543158     1.357594  8.045954e+05     2.250226   \n",
       "std       9.685747     0.498171     1.096052  5.157549e+05     1.458795   \n",
       "min      21.000000     0.000000     0.000000  6.300000e+01     0.000000   \n",
       "25%      34.000000     0.000000     0.000000  3.922642e+05     1.000000   \n",
       "50%      40.000000     1.000000     1.000000  7.649386e+05     2.000000   \n",
       "75%      47.000000     1.000000     2.000000  1.147124e+06     3.000000   \n",
       "max      72.000000     1.000000     3.000000  2.436616e+06     5.000000   \n",
       "\n",
       "       Transaction_Status  Product_Holdings  Credit_Card  Credit_Category  \\\n",
       "count         6650.000000       6650.000000  6650.000000      6650.000000   \n",
       "mean             0.515789          0.559098     0.664361         1.155338   \n",
       "std              0.499788          0.571977     0.472249         0.863572   \n",
       "min              0.000000          0.000000     0.000000         0.000000   \n",
       "25%              0.000000          0.000000     0.000000         0.000000   \n",
       "50%              1.000000          1.000000     1.000000         1.000000   \n",
       "75%              1.000000          1.000000     1.000000         2.000000   \n",
       "max              1.000000          2.000000     1.000000         2.000000   \n",
       "\n",
       "          Is_Churn  \n",
       "count  6650.000000  \n",
       "mean      0.231128  \n",
       "std       0.421586  \n",
       "min       0.000000  \n",
       "25%       0.000000  \n",
       "50%       0.000000  \n",
       "75%       0.000000  \n",
       "max       1.000000  "
      ]
     },
     "execution_count": 23,
     "metadata": {},
     "output_type": "execute_result"
    }
   ],
   "source": [
    "df.describe()"
   ]
  },
  {
   "cell_type": "markdown",
   "metadata": {
    "id": "Iz5KSBFWcXC5"
   },
   "source": [
    "Numbers of values are same in every column.\n",
    "\n",
    "Not Much differnce between mean and median.\n",
    "\n",
    "Not much difference between 75% and max.\n"
   ]
  },
  {
   "cell_type": "markdown",
   "metadata": {
    "id": "mMeOx0DPcuBh"
   },
   "source": [
    "**Checking Correlation**"
   ]
  },
  {
   "cell_type": "code",
   "execution_count": 24,
   "metadata": {
    "colab": {
     "base_uri": "https://localhost:8080/",
     "height": 450
    },
    "id": "FemEQlaJcBMp",
    "outputId": "1f04c871-73fa-4dc4-d762-15cfb41eb542"
   },
   "outputs": [
    {
     "data": {
      "text/plain": [
       "<AxesSubplot:>"
      ]
     },
     "execution_count": 24,
     "metadata": {},
     "output_type": "execute_result"
    },
    {
     "data": {
      "image/png": "[encoded data removed]",
      "text/plain": [
       "<Figure size 1584x504 with 2 Axes>"
      ]
     },
     "metadata": {
      "needs_background": "light"
     },
     "output_type": "display_data"
    }
   ],
   "source": [
    "plt.figure(figsize=(22,7))\n",
    "sns.heatmap(df.corr(),annot=True,linewidths =0.1,fmt='0.2f')"
   ]
  },
  {
   "cell_type": "markdown",
   "metadata": {
    "id": "lkBjjUoCdB0H"
   },
   "source": [
    "Target Column Is_Churn looking negatively correlated with other columns.\n",
    "\n",
    "Other columns are also looking negatively correlated with each other."
   ]
  },
  {
   "cell_type": "markdown",
   "metadata": {
    "id": "iHO7ESy5dztY"
   },
   "source": [
    "**Detecting Outlier**"
   ]
  },
  {
   "cell_type": "code",
   "execution_count": 25,
   "metadata": {
    "colab": {
     "base_uri": "https://localhost:8080/",
     "height": 457
    },
    "id": "10jWA4fudOgG",
    "outputId": "9fc237fa-321c-4402-a2e5-e81b836d8d40"
   },
   "outputs": [
    {
     "data": {
      "text/plain": [
       "Age                      AxesSubplot(0.125,0.749828;0.0824468x0.130172)\n",
       "Gender                AxesSubplot(0.223936,0.749828;0.0824468x0.130172)\n",
       "Income                AxesSubplot(0.322872,0.749828;0.0824468x0.130172)\n",
       "Balance               AxesSubplot(0.421809,0.749828;0.0824468x0.130172)\n",
       "Vintage               AxesSubplot(0.520745,0.749828;0.0824468x0.130172)\n",
       "Transaction_Status    AxesSubplot(0.619681,0.749828;0.0824468x0.130172)\n",
       "Product_Holdings      AxesSubplot(0.718617,0.749828;0.0824468x0.130172)\n",
       "Credit_Card           AxesSubplot(0.817553,0.749828;0.0824468x0.130172)\n",
       "Credit_Category          AxesSubplot(0.125,0.593621;0.0824468x0.130172)\n",
       "Is_Churn              AxesSubplot(0.223936,0.593621;0.0824468x0.130172)\n",
       "dtype: object"
      ]
     },
     "execution_count": 25,
     "metadata": {},
     "output_type": "execute_result"
    },
    {
     "data": {
      "image/png": "[encoded data removed]",
      "text/plain": [
       "<Figure size 1080x720 with 40 Axes>"
      ]
     },
     "metadata": {
      "needs_background": "light"
     },
     "output_type": "display_data"
    }
   ],
   "source": [
    "df.plot(kind='box',subplots=True, layout=(5,8), figsize=(15,10))"
   ]
  },
  {
   "cell_type": "markdown",
   "metadata": {
    "id": "Tb_UOmGwd7v_"
   },
   "source": [
    "Not Much outliers are Present."
   ]
  },
  {
   "cell_type": "markdown",
   "metadata": {
    "id": "nYaYLTN0ejKF"
   },
   "source": [
    "**Seprating the columns into Feature and Target**"
   ]
  },
  {
   "cell_type": "code",
   "execution_count": 26,
   "metadata": {
    "id": "7vSkY9rceev0"
   },
   "outputs": [],
   "source": [
    "x=df.drop('Is_Churn',axis=1)\n",
    "y=df['Is_Churn']"
   ]
  },
  {
   "cell_type": "code",
   "execution_count": null,
   "metadata": {
    "id": "YIC2I3oEswGr"
   },
   "outputs": [],
   "source": []
  },
  {
   "cell_type": "markdown",
   "metadata": {
    "id": "WzaVOm4DtVAA"
   },
   "source": [
    "**Handling Class Imbalance Problem on target column**"
   ]
  },
  {
   "cell_type": "code",
   "execution_count": 27,
   "metadata": {
    "id": "tMT6zesQtUJa"
   },
   "outputs": [],
   "source": [
    "# Because there is big differnce between both classes of Is_Churn\n",
    "from imblearn.over_sampling import SMOTE\n",
    "SM=SMOTE()\n",
    "x_over, y_over=SM.fit_resample(x,y)"
   ]
  },
  {
   "cell_type": "code",
   "execution_count": 28,
   "metadata": {
    "colab": {
     "base_uri": "https://localhost:8080/"
    },
    "id": "ZpO9jy2CtnJA",
    "outputId": "2117e745-018e-4839-9b4f-50a594efb611"
   },
   "outputs": [
    {
     "data": {
      "text/plain": [
       "0.0    5113\n",
       "1.0    5113\n",
       "Name: Is_Churn, dtype: int64"
      ]
     },
     "execution_count": 28,
     "metadata": {},
     "output_type": "execute_result"
    }
   ],
   "source": [
    "y_over.value_counts()"
   ]
  },
  {
   "cell_type": "code",
   "execution_count": null,
   "metadata": {
    "id": "pzbtffhEsRv7"
   },
   "outputs": [],
   "source": []
  },
  {
   "cell_type": "code",
   "execution_count": null,
   "metadata": {
    "id": "IC5_-4G7sRy4"
   },
   "outputs": [],
   "source": []
  },
  {
   "cell_type": "markdown",
   "metadata": {
    "id": "wgAzfxP2ezIC"
   },
   "source": [
    "**Train Test Split**"
   ]
  },
  {
   "cell_type": "code",
   "execution_count": 29,
   "metadata": {
    "colab": {
     "base_uri": "https://localhost:8080/"
    },
    "id": "54EKCfGueyJA",
    "outputId": "f615d730-4f30-4ada-b250-e8e65cb82e5c"
   },
   "outputs": [
    {
     "name": "stdout",
     "output_type": "stream",
     "text": [
      "(3790, 9)\n",
      "(2860, 9)\n",
      "(3790,)\n",
      "(2860,)\n"
     ]
    }
   ],
   "source": [
    "# y1\n",
    "from sklearn.model_selection import train_test_split\n",
    "x_train, x_test, y_train, y_test= train_test_split(x,y,test_size=.43, random_state=43)\n",
    "print(x_train.shape)\n",
    "print(x_test.shape)\n",
    "print(y_train.shape)\n",
    "print(y_test.shape)"
   ]
  },
  {
   "cell_type": "code",
   "execution_count": null,
   "metadata": {
    "id": "XqBJ5iwn5VDO"
   },
   "outputs": [],
   "source": []
  },
  {
   "cell_type": "markdown",
   "metadata": {
    "id": "jvHxfy_XfksG"
   },
   "source": [
    "**Model Building**"
   ]
  },
  {
   "cell_type": "code",
   "execution_count": 30,
   "metadata": {
    "id": "Y4yi0sa5e734"
   },
   "outputs": [],
   "source": [
    "from sklearn.linear_model import LogisticRegression\n",
    "from sklearn.ensemble import AdaBoostClassifier, RandomForestClassifier\n",
    "from sklearn.naive_bayes import GaussianNB\n",
    "from sklearn.tree import DecisionTreeClassifier\n",
    "from sklearn.model_selection import cross_val_score\n",
    "from sklearn.metrics import accuracy_score, confusion_matrix, classification_report\n"
   ]
  },
  {
   "cell_type": "code",
   "execution_count": 31,
   "metadata": {
    "colab": {
     "base_uri": "https://localhost:8080/"
    },
    "id": "ilb9Pnf2g2GR",
    "outputId": "65f9665a-8a2b-46ae-f79f-61db0ac208ec"
   },
   "outputs": [
    {
     "name": "stdout",
     "output_type": "stream",
     "text": [
      "0.7723776223776224\n",
      "[[2209    0]\n",
      " [ 651    0]]\n",
      "              precision    recall  f1-score   support\n",
      "\n",
      "         0.0       0.77      1.00      0.87      2209\n",
      "         1.0       0.00      0.00      0.00       651\n",
      "\n",
      "    accuracy                           0.77      2860\n",
      "   macro avg       0.39      0.50      0.44      2860\n",
      "weighted avg       0.60      0.77      0.67      2860\n",
      "\n"
     ]
    }
   ],
   "source": [
    "#LogisticRegression\n",
    "lr=LogisticRegression()\n",
    "lr.fit(x_train, y_train)\n",
    "predlr=lr.predict(x_test)\n",
    "print(accuracy_score(y_test,predlr))\n",
    "print(confusion_matrix(y_test,predlr))\n",
    "print(classification_report(y_test,predlr))"
   ]
  },
  {
   "cell_type": "code",
   "execution_count": 32,
   "metadata": {
    "colab": {
     "base_uri": "https://localhost:8080/"
    },
    "id": "hZnqSZBsk3Xo",
    "outputId": "f3f573fa-906b-49fc-c404-9381b1d1f6a0"
   },
   "outputs": [
    {
     "name": "stdout",
     "output_type": "stream",
     "text": [
      "cross validation score 0.7688721804511277\n"
     ]
    }
   ],
   "source": [
    "# Logistic Regression Cross Validation\n",
    "\n",
    "scr=cross_val_score(lr,x,y,cv=5)\n",
    "print('cross validation score',scr.mean())"
   ]
  },
  {
   "cell_type": "code",
   "execution_count": null,
   "metadata": {
    "id": "T5ViaJOQlHR5"
   },
   "outputs": [],
   "source": []
  },
  {
   "cell_type": "code",
   "execution_count": 33,
   "metadata": {
    "colab": {
     "base_uri": "https://localhost:8080/"
    },
    "id": "h8Tgw9q8llqI",
    "outputId": "a8056fc1-aeac-48c4-f6b5-bda106ab0be7"
   },
   "outputs": [
    {
     "name": "stdout",
     "output_type": "stream",
     "text": [
      "0.7706293706293706\n",
      "[[2159   50]\n",
      " [ 606   45]]\n",
      "              precision    recall  f1-score   support\n",
      "\n",
      "         0.0       0.78      0.98      0.87      2209\n",
      "         1.0       0.47      0.07      0.12       651\n",
      "\n",
      "    accuracy                           0.77      2860\n",
      "   macro avg       0.63      0.52      0.49      2860\n",
      "weighted avg       0.71      0.77      0.70      2860\n",
      "\n"
     ]
    }
   ],
   "source": [
    "# AdaBoostClassifier\n",
    "ad=AdaBoostClassifier()\n",
    "ad.fit(x_train,y_train)\n",
    "predad=ad.predict(x_test)\n",
    "print(accuracy_score(y_test,predad))\n",
    "print(confusion_matrix(y_test,predad))\n",
    "print(classification_report(y_test,predad))"
   ]
  },
  {
   "cell_type": "code",
   "execution_count": 34,
   "metadata": {
    "colab": {
     "base_uri": "https://localhost:8080/"
    },
    "id": "ZbBE7Y0plltk",
    "outputId": "1473492a-64b1-4442-ea88-ff01e65923f3"
   },
   "outputs": [
    {
     "name": "stdout",
     "output_type": "stream",
     "text": [
      "cross validation score 0.7682706766917293\n"
     ]
    }
   ],
   "source": [
    "#For AdaBoostClassifier cross validation\n",
    "scr=cross_val_score(ad,x,y,cv=5)\n",
    "print('cross validation score',scr.mean())"
   ]
  },
  {
   "cell_type": "code",
   "execution_count": null,
   "metadata": {
    "id": "Ul6fhaDUlqob"
   },
   "outputs": [],
   "source": []
  },
  {
   "cell_type": "code",
   "execution_count": 35,
   "metadata": {
    "colab": {
     "base_uri": "https://localhost:8080/"
    },
    "id": "Utf1z_c0lrx7",
    "outputId": "ab6b4218-86c6-462c-e6c3-326b22640916"
   },
   "outputs": [
    {
     "name": "stdout",
     "output_type": "stream",
     "text": [
      "0.7548951048951049\n",
      "[[2091  118]\n",
      " [ 583   68]]\n",
      "              precision    recall  f1-score   support\n",
      "\n",
      "         0.0       0.78      0.95      0.86      2209\n",
      "         1.0       0.37      0.10      0.16       651\n",
      "\n",
      "    accuracy                           0.75      2860\n",
      "   macro avg       0.57      0.53      0.51      2860\n",
      "weighted avg       0.69      0.75      0.70      2860\n",
      "\n"
     ]
    }
   ],
   "source": [
    "# RandomForestClassifier\n",
    "rf=RandomForestClassifier()\n",
    "rf.fit(x_train,y_train)\n",
    "predrf=rf.predict(x_test)\n",
    "print(accuracy_score(y_test,predrf))\n",
    "print(confusion_matrix(y_test,predrf))\n",
    "print(classification_report(y_test,predrf))"
   ]
  },
  {
   "cell_type": "code",
   "execution_count": 36,
   "metadata": {
    "colab": {
     "base_uri": "https://localhost:8080/"
    },
    "id": "D3TC6nUnlr1c",
    "outputId": "eebfa83e-e171-4de5-9ac7-00857cedc621"
   },
   "outputs": [
    {
     "name": "stdout",
     "output_type": "stream",
     "text": [
      "cross validation score 0.7539849624060151\n"
     ]
    }
   ],
   "source": [
    "# Random Forest Cross Validation\n",
    "\n",
    "scr=cross_val_score(rf,x,y,cv=5)\n",
    "print('cross validation score',scr.mean())"
   ]
  },
  {
   "cell_type": "code",
   "execution_count": null,
   "metadata": {
    "id": "T4tC3YkGlzg-"
   },
   "outputs": [],
   "source": []
  },
  {
   "cell_type": "code",
   "execution_count": 37,
   "metadata": {
    "colab": {
     "base_uri": "https://localhost:8080/"
    },
    "id": "RTfAtlLfl1UM",
    "outputId": "55a1ad7d-2882-4e7d-ab88-3bf1a890836a"
   },
   "outputs": [
    {
     "name": "stdout",
     "output_type": "stream",
     "text": [
      "0.6555944055944056\n",
      "[[1701  508]\n",
      " [ 477  174]]\n",
      "              precision    recall  f1-score   support\n",
      "\n",
      "         0.0       0.78      0.77      0.78      2209\n",
      "         1.0       0.26      0.27      0.26       651\n",
      "\n",
      "    accuracy                           0.66      2860\n",
      "   macro avg       0.52      0.52      0.52      2860\n",
      "weighted avg       0.66      0.66      0.66      2860\n",
      "\n"
     ]
    }
   ],
   "source": [
    "#DecisionTreeClassifier\n",
    "dt=DecisionTreeClassifier()\n",
    "dt.fit(x_train,y_train)\n",
    "preddt=dt.predict(x_test)\n",
    "print(accuracy_score(y_test,preddt))\n",
    "print(confusion_matrix(y_test,preddt))\n",
    "print(classification_report(y_test,preddt))"
   ]
  },
  {
   "cell_type": "code",
   "execution_count": 38,
   "metadata": {
    "colab": {
     "base_uri": "https://localhost:8080/"
    },
    "id": "xNumKTjal1Xx",
    "outputId": "c654dd7f-6297-492f-d603-b208e6a51806"
   },
   "outputs": [
    {
     "name": "stdout",
     "output_type": "stream",
     "text": [
      "cross validation score 0.6419548872180452\n"
     ]
    }
   ],
   "source": [
    "# For DecisionTreeClassifier cross validation\n",
    "scr=cross_val_score(dt,x,y,cv=5)\n",
    "print('cross validation score',scr.mean())"
   ]
  },
  {
   "cell_type": "code",
   "execution_count": null,
   "metadata": {
    "id": "KJfs6pWul9kz"
   },
   "outputs": [],
   "source": []
  },
  {
   "cell_type": "code",
   "execution_count": 39,
   "metadata": {
    "colab": {
     "base_uri": "https://localhost:8080/"
    },
    "id": "trFlgNgSmCRM",
    "outputId": "9bcd1f43-e732-4212-a29b-34ed71dc6a64"
   },
   "outputs": [
    {
     "name": "stdout",
     "output_type": "stream",
     "text": [
      "0.7723776223776224\n",
      "[[2209    0]\n",
      " [ 651    0]]\n",
      "              precision    recall  f1-score   support\n",
      "\n",
      "         0.0       0.77      1.00      0.87      2209\n",
      "         1.0       0.00      0.00      0.00       651\n",
      "\n",
      "    accuracy                           0.77      2860\n",
      "   macro avg       0.39      0.50      0.44      2860\n",
      "weighted avg       0.60      0.77      0.67      2860\n",
      "\n"
     ]
    }
   ],
   "source": [
    "# GaussianNB\n",
    "gnb=GaussianNB()\n",
    "gnb.fit(x_train,y_train)\n",
    "predgnb=gnb.predict(x_test)\n",
    "print(accuracy_score(y_test,predgnb))\n",
    "print(confusion_matrix(y_test,predgnb))\n",
    "print(classification_report(y_test,predgnb))"
   ]
  },
  {
   "cell_type": "code",
   "execution_count": 40,
   "metadata": {
    "colab": {
     "base_uri": "https://localhost:8080/"
    },
    "id": "H_j3L2r1mCUv",
    "outputId": "047078eb-3a44-4256-8698-5a1f5b615523"
   },
   "outputs": [
    {
     "name": "stdout",
     "output_type": "stream",
     "text": [
      "cross validation score 0.7688721804511277\n"
     ]
    }
   ],
   "source": [
    "# For GaussianNb cross validation\n",
    "scr=cross_val_score(gnb,x,y,cv=5)\n",
    "print('cross validation score',scr.mean())"
   ]
  },
  {
   "cell_type": "markdown",
   "metadata": {
    "id": "qirFA1XemLxr"
   },
   "source": [
    "After apllying 4 to 5 model, we can see the macro f1 score from each model."
   ]
  },
  {
   "cell_type": "code",
   "execution_count": null,
   "metadata": {
    "id": "-1v3OhjwmFmI"
   },
   "outputs": [],
   "source": []
  },
  {
   "cell_type": "markdown",
   "metadata": {
    "id": "O_U4ndiQmbNs"
   },
   "source": [
    "**Hyper Parameter Tuning**"
   ]
  },
  {
   "cell_type": "code",
   "execution_count": 41,
   "metadata": {
    "colab": {
     "base_uri": "https://localhost:8080/"
    },
    "id": "vLj97Kl3q1Fo",
    "outputId": "a95e14f8-fa2d-443d-971f-3ea34ca681fb"
   },
   "outputs": [
    {
     "name": "stdout",
     "output_type": "stream",
     "text": [
      "{'criterion': 'gini'}\n",
      "0.7678195488721805\n"
     ]
    }
   ],
   "source": [
    "# since we got high accuracy in Random Forest and GaussianNB so here we are taking random Forest For Hyper Parameter Tuning\n",
    "from sklearn import datasets\n",
    "from sklearn.model_selection import GridSearchCV\n",
    "\n",
    "rf=RandomForestClassifier(max_depth=10,random_state=0)\n",
    "\n",
    "grid_param={'criterion':['gini','entropy']}\n",
    "           \n",
    "\n",
    "gd_sr=GridSearchCV(estimator=rf,\n",
    "                  param_grid=grid_param,\n",
    "                  scoring='accuracy',\n",
    "                  cv=5)\n",
    "\n",
    "gd_sr.fit(x,y)\n",
    "\n",
    "best_parameters =gd_sr.best_params_\n",
    "print(best_parameters)\n",
    "best_result=gd_sr.best_score_\n",
    "print(best_result)"
   ]
  },
  {
   "cell_type": "code",
   "execution_count": 42,
   "metadata": {
    "colab": {
     "base_uri": "https://localhost:8080/"
    },
    "id": "oN6MaIIBw9uH",
    "outputId": "df26967c-11cc-42f1-8ea8-a76b9205ca72"
   },
   "outputs": [
    {
     "name": "stdout",
     "output_type": "stream",
     "text": [
      "0.7555944055944056\n",
      "[[2096  113]\n",
      " [ 586   65]]\n",
      "              precision    recall  f1-score   support\n",
      "\n",
      "         0.0       0.78      0.95      0.86      2209\n",
      "         1.0       0.37      0.10      0.16       651\n",
      "\n",
      "    accuracy                           0.76      2860\n",
      "   macro avg       0.57      0.52      0.51      2860\n",
      "weighted avg       0.69      0.76      0.70      2860\n",
      "\n"
     ]
    }
   ],
   "source": [
    "final_mod=RandomForestClassifier(criterion='entropy')\n",
    "final_mod.fit(x_train,y_train)\n",
    "predrf=final_mod.predict(x_test)\n",
    "print(accuracy_score(y_test,predrf))\n",
    "print(confusion_matrix(y_test,predrf))\n",
    "print(classification_report(y_test,predrf))"
   ]
  },
  {
   "cell_type": "markdown",
   "metadata": {
    "id": "ABNNZcBxx2GW"
   },
   "source": [
    "After Hyper Parameter Tuning We got macro avg of 50%."
   ]
  },
  {
   "cell_type": "markdown",
   "metadata": {
    "id": "T0slTVdXx-1l"
   },
   "source": [
    "**Saving the Model**"
   ]
  },
  {
   "cell_type": "code",
   "execution_count": 64,
   "metadata": {
    "id": "vB6XI33f3jiA"
   },
   "outputs": [],
   "source": [
    "submission=pd.read_csv(\"sample_OoSmYo51.csv\")\n"
   ]
  },
  {
   "cell_type": "code",
   "execution_count": 65,
   "metadata": {
    "id": "3WuUfL2mxNsQ"
   },
   "outputs": [],
   "source": [
    "submission['Is_Churn']=predrf\n",
    "submission['ID']=test['ID']"
   ]
  },
  {
   "cell_type": "code",
   "execution_count": 66,
   "metadata": {
    "id": "cUujDgZg0lue"
   },
   "outputs": [],
   "source": [
    "pd.DataFrame(submission, columns=['ID','Is_Churn']).to_csv('customer_churn.csv')"
   ]
  },
  {
   "cell_type": "code",
   "execution_count": 67,
   "metadata": {
    "colab": {
     "base_uri": "https://localhost:8080/",
     "height": 206
    },
    "id": "Roe73p840sHN",
    "outputId": "280bf8a2-a2c6-4cdf-d4a4-6c0b46edb1d9"
   },
   "outputs": [
    {
     "data": {
      "text/html": [
       "<div>\n",
       "<style scoped>\n",
       "    .dataframe tbody tr th:only-of-type {\n",
       "        vertical-align: middle;\n",
       "    }\n",
       "\n",
       "    .dataframe tbody tr th {\n",
       "        vertical-align: top;\n",
       "    }\n",
       "\n",
       "    .dataframe thead th {\n",
       "        text-align: right;\n",
       "    }\n",
       "</style>\n",
       "<table border=\"1\" class=\"dataframe\">\n",
       "  <thead>\n",
       "    <tr style=\"text-align: right;\">\n",
       "      <th></th>\n",
       "      <th>Unnamed: 0</th>\n",
       "      <th>ID</th>\n",
       "      <th>Is_Churn</th>\n",
       "    </tr>\n",
       "  </thead>\n",
       "  <tbody>\n",
       "    <tr>\n",
       "      <th>0</th>\n",
       "      <td>0</td>\n",
       "      <td>55480787</td>\n",
       "      <td>0.0</td>\n",
       "    </tr>\n",
       "    <tr>\n",
       "      <th>1</th>\n",
       "      <td>1</td>\n",
       "      <td>9aededf2</td>\n",
       "      <td>0.0</td>\n",
       "    </tr>\n",
       "    <tr>\n",
       "      <th>2</th>\n",
       "      <td>2</td>\n",
       "      <td>a5034a09</td>\n",
       "      <td>0.0</td>\n",
       "    </tr>\n",
       "    <tr>\n",
       "      <th>3</th>\n",
       "      <td>3</td>\n",
       "      <td>b3256702</td>\n",
       "      <td>0.0</td>\n",
       "    </tr>\n",
       "    <tr>\n",
       "      <th>4</th>\n",
       "      <td>4</td>\n",
       "      <td>dc28adb5</td>\n",
       "      <td>1.0</td>\n",
       "    </tr>\n",
       "  </tbody>\n",
       "</table>\n",
       "</div>"
      ],
      "text/plain": [
       "   Unnamed: 0        ID  Is_Churn\n",
       "0           0  55480787       0.0\n",
       "1           1  9aededf2       0.0\n",
       "2           2  a5034a09       0.0\n",
       "3           3  b3256702       0.0\n",
       "4           4  dc28adb5       1.0"
      ]
     },
     "execution_count": 67,
     "metadata": {},
     "output_type": "execute_result"
    }
   ],
   "source": [
    "# result\n",
    "f=pd.read_csv('customer_churn.csv')\n",
    "f.head()"
   ]
  },
  {
   "cell_type": "code",
   "execution_count": null,
   "metadata": {
    "id": "xoQms8_s--Ag"
   },
   "outputs": [],
   "source": []
  }
 ],
 "metadata": {
  "colab": {
   "name": "Customer Churn Hackthon.ipynb",
   "provenance": []
  },
  "kernelspec": {
   "display_name": "Python 3",
   "language": "python",
   "name": "python3"
  },
  "language_info": {
   "codemirror_mode": {
    "name": "ipython",
    "version": 3
   },
   "file_extension": ".py",
   "mimetype": "text/x-python",
   "name": "python",
   "nbconvert_exporter": "python",
   "pygments_lexer": "ipython3",
   "version": "3.8.8"
  }
 },
 "nbformat": 4,
 "nbformat_minor": 1
}
