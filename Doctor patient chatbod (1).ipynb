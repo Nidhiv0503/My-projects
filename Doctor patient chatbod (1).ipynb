{
 "cells": [
  {
   "cell_type": "code",
   "execution_count": 1,
   "id": "85fc3705",
   "metadata": {},
   "outputs": [],
   "source": [
    "from nltk.chat.util import Chat, reflections\n"
   ]
  },
  {
   "cell_type": "code",
   "execution_count": null,
   "id": "ba55e125",
   "metadata": {},
   "outputs": [
    {
     "name": "stdout",
     "output_type": "stream",
     "text": [
      ">Good morning\n",
      "good morning\n",
      ">Need help\n",
      "how can i help you\n",
      ">There is infection in my eye\n",
      "Let me look this\n",
      ">please give me something that get instant relief\n",
      "I am giving you drop \n",
      ">How can i take it\n",
      "Two drop three times in a day\n",
      ">Thanks Doctor\n",
      "Get well soon\n"
     ]
    }
   ],
   "source": [
    "pairs=[\n",
    "     ['Good morning',['good morning']],\n",
    "     ['Need help',['how can i help you']],\n",
    "     ['There is infection in my eye',['Let me look this']],\n",
    "     ['please give me something that get instant relief',['I am giving you drop ']],\n",
    "     ['How can i take it',['Two drop three times in a day']],\n",
    "     ['Thanks Doctor',['Get well soon']]\n",
    "    \n",
    "]\n",
    "\n",
    "chat = Chat(pairs,reflections)\n",
    "chat.converse()"
   ]
  },
  {
   "cell_type": "code",
   "execution_count": null,
   "id": "c4f12f6d",
   "metadata": {},
   "outputs": [],
   "source": []
  }
 ],
 "metadata": {
  "kernelspec": {
   "display_name": "Python 3",
   "language": "python",
   "name": "python3"
  },
  "language_info": {
   "codemirror_mode": {
    "name": "ipython",
    "version": 3
   },
   "file_extension": ".py",
   "mimetype": "text/x-python",
   "name": "python",
   "nbconvert_exporter": "python",
   "pygments_lexer": "ipython3",
   "version": "3.8.8"
  }
 },
 "nbformat": 4,
 "nbformat_minor": 5
}
